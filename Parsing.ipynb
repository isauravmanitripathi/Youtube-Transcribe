{
 "cells": [
  {
   "cell_type": "code",
   "execution_count": 1,
   "metadata": {
    "collapsed": true
   },
   "outputs": [
    {
     "name": "stdout",
     "output_type": "stream",
     "text": [
      "Collecting pandas\r\n",
      "  Downloading pandas-1.5.1-cp38-cp38-macosx_10_9_x86_64.whl (11.9 MB)\r\n",
      "\u001B[K     |████████████████████████████████| 11.9 MB 616 kB/s eta 0:00:01    |█████████▋                      | 3.6 MB 3.4 MB/s eta 0:00:03     |███████████▏                    | 4.1 MB 3.4 MB/s eta 0:00:03\r\n",
      "\u001B[?25hCollecting pytz>=2020.1\r\n",
      "  Downloading pytz-2022.5-py2.py3-none-any.whl (500 kB)\r\n",
      "\u001B[K     |████████████████████████████████| 500 kB 10.1 MB/s eta 0:00:01\r\n",
      "\u001B[?25hCollecting numpy>=1.20.3\r\n",
      "  Downloading numpy-1.23.4-cp38-cp38-macosx_10_9_x86_64.whl (18.1 MB)\r\n",
      "\u001B[K     |████████████████████████████████| 18.1 MB 12.7 MB/s eta 0:00:01     |██████████████████████████▎     | 14.9 MB 12.7 MB/s eta 0:00:01\r\n",
      "\u001B[?25hRequirement already satisfied: python-dateutil>=2.8.1 in ./venv/lib/python3.8/site-packages (from pandas) (2.8.2)\r\n",
      "Requirement already satisfied: six>=1.5 in ./venv/lib/python3.8/site-packages (from python-dateutil>=2.8.1->pandas) (1.16.0)\r\n",
      "Installing collected packages: pytz, numpy, pandas\r\n",
      "Successfully installed numpy-1.23.4 pandas-1.5.1 pytz-2022.5\r\n",
      "\u001B[33mWARNING: You are using pip version 21.1.2; however, version 22.3 is available.\r\n",
      "You should consider upgrading via the '/Users/sauravtripathi/Downloads/python/Youtu-Transcribe/venv/bin/python -m pip install --upgrade pip' command.\u001B[0m\r\n"
     ]
    }
   ],
   "source": [
    "!pip install pandas"
   ]
  },
  {
   "cell_type": "code",
   "execution_count": 1,
   "outputs": [],
   "source": [
    "this"
   ],
   "metadata": {
    "collapsed": false,
    "pycharm": {
     "name": "#%%\n"
    }
   }
  }
 ],
 "metadata": {
  "kernelspec": {
   "display_name": "Python 3",
   "language": "python",
   "name": "python3"
  },
  "language_info": {
   "codemirror_mode": {
    "name": "ipython",
    "version": 2
   },
   "file_extension": ".py",
   "mimetype": "text/x-python",
   "name": "python",
   "nbconvert_exporter": "python",
   "pygments_lexer": "ipython2",
   "version": "2.7.6"
  }
 },
 "nbformat": 4,
 "nbformat_minor": 0
}